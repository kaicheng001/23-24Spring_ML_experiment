{
 "cells": [
  {
   "cell_type": "markdown",
   "id": "fb968f74",
   "metadata": {},
   "source": [
    "### 查看Pytorch中可以使用的芯片加速"
   ]
  },
  {
   "cell_type": "code",
   "execution_count": 1,
   "id": "328fc237",
   "metadata": {},
   "outputs": [
    {
     "data": {
      "text/plain": [
       "['ContextProp',\n",
       " 'PropModule',\n",
       " '__allow_nonbracketed_mutation',\n",
       " '__allow_nonbracketed_mutation_flag',\n",
       " '__builtins__',\n",
       " '__cached__',\n",
       " '__doc__',\n",
       " '__file__',\n",
       " '__loader__',\n",
       " '__name__',\n",
       " '__package__',\n",
       " '__path__',\n",
       " '__spec__',\n",
       " 'contextmanager',\n",
       " 'cuda',\n",
       " 'cudnn',\n",
       " 'disable_global_flags',\n",
       " 'flags_frozen',\n",
       " 'mkl',\n",
       " 'mkldnn',\n",
       " 'openmp',\n",
       " 'quantized',\n",
       " 'types']"
      ]
     },
     "execution_count": 1,
     "metadata": {},
     "output_type": "execute_result"
    }
   ],
   "source": [
    "import pandas as pd\n",
    "import torch"
   ]
  },
  {
   "cell_type": "markdown",
   "id": "e6f028f6",
   "metadata": {},
   "source": [
    "### 简单神经网络模型"
   ]
  },
  {
   "cell_type": "code",
   "execution_count": 2,
   "id": "5abfa1b4",
   "metadata": {},
   "outputs": [],
   "source": [
    "import torch\n",
    "import torch.nn as nn\n",
    "import torch.optim as optim\n",
    "import torchvision.transforms as transforms\n",
    "import torchvision.datasets as datasets\n",
    "\n",
    "class CNN(nn.Module):\n",
    "    def __init__(self, num_classes):\n",
    "        super(CNN, self).__init__()\n",
    "        self.features = nn.Sequential(\n",
    "            nn.Conv2d(3, 32, kernel_size=3, stride=1, padding=1),  # 卷积运算\n",
    "            nn.ReLU(),  # 激活函数\n",
    "            nn.Conv2d(32, 32, kernel_size=3, stride=1, padding=1),\n",
    "            nn.ReLU(),\n",
    "            nn.MaxPool2d(kernel_size=2, stride=2),  # 池化层\n",
    "            \n",
    "            nn.Conv2d(32, 64, kernel_size=3, stride=1, padding=1),\n",
    "            nn.ReLU(),\n",
    "            nn.Conv2d(64, 64, kernel_size=3, stride=1, padding=1),\n",
    "            nn.ReLU(),\n",
    "            nn.MaxPool2d(kernel_size=2, stride=2),\n",
    "            \n",
    "            nn.Conv2d(64, 128, kernel_size=3, stride=1, padding=1),\n",
    "            nn.ReLU(),\n",
    "            nn.Conv2d(128, 128, kernel_size=3, stride=1, padding=1),\n",
    "            nn.ReLU(),\n",
    "            nn.MaxPool2d(kernel_size=2, stride=2),\n",
    "\n",
    "            nn.Flatten()  # 把2维输出结果拉伸\n",
    "        )\n",
    "        # 计算最后一层卷积层的输出尺寸是多少，然后用这个尺寸来定义全连接层的输入\n",
    "        # 假设输入图像大小为3x32x32\n",
    "        input_size = 32\n",
    "        for _ in range(3):  # 三次最大池化，每次尺寸减半\n",
    "            input_size = input_size // 2\n",
    "        self.classifier = nn.Sequential(\n",
    "            nn.Linear(128 * input_size * input_size, 1024),  # 全连接层\n",
    "            nn.ReLU(),  # 激活函数\n",
    "            nn.Linear(1024, 512),  # 全连接层\n",
    "            nn.ReLU(),  # 激活函数\n",
    "            nn.Linear(512, 256),  # 全连接层\n",
    "            nn.ReLU(),  # 激活函数\n",
    "            nn.Linear(256, num_classes),\n",
    "        )\n",
    "\n",
    "    def forward(self, x):\n",
    "        x = self.features(x)\n",
    "        x = self.classifier(x)\n",
    "        return x\n"
   ]
  },
  {
   "cell_type": "markdown",
   "id": "0b6a54a1",
   "metadata": {},
   "source": [
    "\n",
    "CIFAR-10（Canadian Institute for Advanced Research 10）是一个广泛使用的图像分类数据集，用于计算机视觉中的图像分类和模型训练任务。它由10个不同的类别组成，每个类别包含大约6,000张32x32像素的彩色图像。\n",
    "\n",
    "CIFAR-10 数据集中的类别包括：\n",
    "- 飞机（airplane）\n",
    "- 汽车（automobile）\n",
    "- 鸟类（bird）\n",
    "- 猫（cat）\n",
    "- 鹿（deer）\n",
    "- 狗（dog）\n",
    "- 蛙类（frog）\n",
    "- 马（horse）\n",
    "- 船（ship）\n",
    "- 卡车（truck）\n",
    "\n",
    "CIFAR-10 数据集被广泛用于测试和评估图像分类模型的性能和准确度。每个图像都被分配一个正确的标签，从0到9的整数表示类别。\n",
    "\n",
    "该数据集的特点是图像分辨率相对较低，仅为32x32像素，但包含了多个不同的类别和复杂度。由于图像较小且具有较低的分辨率，CIFAR-10 数据集通常用于快速验证和原型开发，以便更快地测试和训练模型。"
   ]
  },
  {
   "cell_type": "code",
   "execution_count": 3,
   "id": "44ceb07d",
   "metadata": {},
   "outputs": [
    {
     "name": "stdout",
     "output_type": "stream",
     "text": [
      "Files already downloaded and verified\n",
      "Files already downloaded and verified\n"
     ]
    }
   ],
   "source": [
    "# 加载数据集\n",
    "train_dataset = datasets.CIFAR10(root='data/', \n",
    "                                 train=True, \n",
    "                                 transform=transforms.ToTensor(), \n",
    "                                 download=True)\n",
    "test_dataset = datasets.CIFAR10(root='data/', \n",
    "                                train=False, \n",
    "                                transform=transforms.ToTensor(), \n",
    "                                download=True)\n",
    "\n",
    "num_epochs = 10\n",
    "batch_size = 128\n",
    "learning_rate = 0.001\n",
    "\n",
    "# 定义数据加载器 -- 用于批次处理和图像变换\n",
    "train_loader = torch.utils.data.DataLoader(dataset=train_dataset, \n",
    "                                           batch_size=batch_size, \n",
    "                                           shuffle=True)\n",
    "test_loader = torch.utils.data.DataLoader(dataset=test_dataset, \n",
    "                                          batch_size=batch_size, \n",
    "                                          shuffle=False)\n"
   ]
  },
  {
   "cell_type": "code",
   "execution_count": 4,
   "id": "01d006f2",
   "metadata": {},
   "outputs": [
    {
     "name": "stdout",
     "output_type": "stream",
     "text": [
      "Epoch [1/10], Step [100/391], Loss: 1.9519\n",
      "Epoch [1/10], Step [200/391], Loss: 1.8089\n",
      "Epoch [1/10], Step [300/391], Loss: 1.5174\n",
      "Epoch [2/10], Step [100/391], Loss: 1.3116\n",
      "Epoch [2/10], Step [200/391], Loss: 1.3250\n",
      "Epoch [2/10], Step [300/391], Loss: 1.1812\n",
      "Epoch [3/10], Step [100/391], Loss: 1.2143\n",
      "Epoch [3/10], Step [200/391], Loss: 0.8960\n",
      "Epoch [3/10], Step [300/391], Loss: 0.8533\n",
      "Epoch [4/10], Step [100/391], Loss: 0.9236\n",
      "Epoch [4/10], Step [200/391], Loss: 0.7090\n",
      "Epoch [4/10], Step [300/391], Loss: 0.5243\n",
      "Epoch [5/10], Step [100/391], Loss: 0.7573\n",
      "Epoch [5/10], Step [200/391], Loss: 0.7033\n",
      "Epoch [5/10], Step [300/391], Loss: 0.8003\n",
      "Epoch [6/10], Step [100/391], Loss: 0.6660\n",
      "Epoch [6/10], Step [200/391], Loss: 0.6422\n",
      "Epoch [6/10], Step [300/391], Loss: 0.6467\n",
      "Epoch [7/10], Step [100/391], Loss: 0.6424\n",
      "Epoch [7/10], Step [200/391], Loss: 0.4032\n",
      "Epoch [7/10], Step [300/391], Loss: 0.6238\n",
      "Epoch [8/10], Step [100/391], Loss: 0.4028\n",
      "Epoch [8/10], Step [200/391], Loss: 0.3308\n",
      "Epoch [8/10], Step [300/391], Loss: 0.3481\n",
      "Epoch [9/10], Step [100/391], Loss: 0.2985\n",
      "Epoch [9/10], Step [200/391], Loss: 0.3480\n",
      "Epoch [9/10], Step [300/391], Loss: 0.3288\n",
      "Epoch [10/10], Step [100/391], Loss: 0.3557\n",
      "Epoch [10/10], Step [200/391], Loss: 0.2277\n",
      "Epoch [10/10], Step [300/391], Loss: 0.3508\n"
     ]
    }
   ],
   "source": [
    "# 创建模型实例\n",
    "device = \"cuda:1\"\n",
    "\n",
    "model = CNN(num_classes=10).to(device)\n",
    "\n",
    "# 定义损失函数和优化器\n",
    "criterion = nn.CrossEntropyLoss() # 多分类； BCELoss - Binary Cross Entropy二分类\n",
    "optimizer = optim.Adam(model.parameters(), lr=learning_rate)\n",
    "\n",
    "# 训练模型\n",
    "total_step = len(train_loader)\n",
    "for epoch in range(num_epochs):\n",
    "    for i, (images, labels) in enumerate(train_loader):\n",
    "        images = images.to(device)\n",
    "        labels = labels.to(device)\n",
    "        # 前向传播\n",
    "        outputs = model(images)\n",
    "        loss = criterion(outputs, labels)\n",
    "        # 反向传播和优化\n",
    "        optimizer.zero_grad()\n",
    "        loss.backward()\n",
    "        optimizer.step()\n",
    "        # 打印训练信息\n",
    "        if (i+1) % 100 == 0:\n",
    "            print(f'Epoch [{epoch+1}/{num_epochs}], Step [{i+1}/{total_step}], Loss: {loss.item():.4f}')"
   ]
  },
  {
   "cell_type": "code",
   "execution_count": 7,
   "id": "93a4bb73",
   "metadata": {},
   "outputs": [
    {
     "data": {
      "text/plain": [
       "torch.Size([16, 3, 32, 32])"
      ]
     },
     "execution_count": 7,
     "metadata": {},
     "output_type": "execute_result"
    }
   ],
   "source": [
    "images.shape"
   ]
  },
  {
   "cell_type": "code",
   "execution_count": 5,
   "id": "2b7f86cd",
   "metadata": {},
   "outputs": [
    {
     "name": "stdout",
     "output_type": "stream",
     "text": [
      "Test Accuracy: 75.29%\n"
     ]
    }
   ],
   "source": [
    "# 测试模型\n",
    "model.eval()\n",
    "with torch.no_grad():\n",
    "    correct = 0\n",
    "    total = 0\n",
    "    for images, labels in test_loader:\n",
    "        images = images.to(device)\n",
    "        labels = labels.to(device)\n",
    "        outputs = model(images)\n",
    "        _, predicted = torch.max(outputs.data, 1)\n",
    "        total += labels.size(0)\n",
    "        correct += (predicted == labels).sum().item()\n",
    "\n",
    "    accuracy = 100 * correct / total\n",
    "    print(f'Test Accuracy: {accuracy:.2f}%')"
   ]
  },
  {
   "cell_type": "code",
   "execution_count": 6,
   "id": "2df216dd",
   "metadata": {},
   "outputs": [
    {
     "data": {
      "image/png": "[encoded data removed]",
      "text/plain": [
       "<Figure size 864x432 with 10 Axes>"
      ]
     },
     "metadata": {
      "needs_background": "light"
     },
     "output_type": "display_data"
    }
   ],
   "source": [
    "# 获取类别名称\n",
    "import matplotlib.pyplot as plt\n",
    "\n",
    "class_names = test_dataset.classes\n",
    "\n",
    "# 创建子图网格\n",
    "fig, axs = plt.subplots(2, 5, figsize=(12, 6))\n",
    "fig.suptitle('CIFAR-10 Class Examples', fontsize=16)\n",
    "\n",
    "# 遍历每个类别\n",
    "for i in range(len(class_names)):\n",
    "    # 获取第一个属于该类别的图像\n",
    "    for image, label in test_dataset:\n",
    "        if label == i:\n",
    "            # 显示图像\n",
    "            ax = axs[i // 5, i % 5]\n",
    "            ax.imshow(torch.transpose(image, 0, 2))\n",
    "            ax.set_title(class_names[i])\n",
    "            ax.axis('off')\n",
    "            break\n",
    "\n",
    "# 调整子图之间的间距\n",
    "plt.tight_layout()\n",
    "\n",
    "# 展示图像\n",
    "plt.show()"
   ]
  },
  {
   "cell_type": "code",
   "execution_count": null,
   "id": "a9fc5f28",
   "metadata": {},
   "outputs": [],
   "source": []
  }
 ],
 "metadata": {
  "kernelspec": {
   "display_name": "Python 3 (ipykernel)",
   "language": "python",
   "name": "python3"
  },
  "language_info": {
   "codemirror_mode": {
    "name": "ipython",
    "version": 3
   },
   "file_extension": ".py",
   "mimetype": "text/x-python",
   "name": "python",
   "nbconvert_exporter": "python",
   "pygments_lexer": "ipython3",
   "version": "3.9.7"
  }
 },
 "nbformat": 4,
 "nbformat_minor": 5
}
