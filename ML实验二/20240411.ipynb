{
 "cells": [
  {
   "cell_type": "code",
   "execution_count": 56,
   "metadata": {},
   "outputs": [],
   "source": [
    "from torchvision import datasets, transforms\n",
    "from torch.utils.data import DataLoader\n",
    "import numpy as np\n",
    "import matplotlib as plt\n"
   ]
  },
  {
   "cell_type": "code",
   "execution_count": 57,
   "metadata": {},
   "outputs": [],
   "source": [
    "import numpy as np\n",
    "\n",
    "class SimpleFullyConnectedNN:\n",
    "    def __init__(self, input_size, hidden_size, output_size):\n",
    "        self.W1 = np.random.randn(input_size, hidden_size) * 0.01\n",
    "        self.b1 = np.zeros((1, hidden_size))\n",
    "        self.W2 = np.random.randn(hidden_size, output_size) * 0.01\n",
    "        self.b2 = np.zeros((1, output_size))\n",
    "\n",
    "    def relu(self, z):\n",
    "        return np.maximum(0, z)\n",
    "\n",
    "    def softmax(self, z):\n",
    "        exp_z = np.exp(z - np.max(z, axis=1, keepdims=True))\n",
    "        return exp_z / np.sum(exp_z, axis=1, keepdims=True)\n",
    "\n",
    "    def forward(self, x):\n",
    "        self.z1 = np.dot(x, self.W1) + self.b1\n",
    "        self.a1 = self.relu(self.z1)\n",
    "        self.z2 = np.dot(self.a1, self.W2) + self.b2\n",
    "        return self.softmax(self.z2)\n",
    "\n",
    "    def compute_loss(self, y_pred, y_true):\n",
    "        m = y_true.shape[0]\n",
    "        log_probs = -np.log(y_pred[np.arange(m), y_true] + 1e-9)  # 加小量避免log(0)\n",
    "        loss = np.sum(log_probs) / m\n",
    "        return loss\n",
    "\n",
    "\n",
    "    def backward(self, x, y_true, y_pred):\n",
    "        m = x.shape[0]\n",
    "        dz2 = y_pred.copy()\n",
    "        dz2[range(m), y_true] -= 1\n",
    "        dz2 /= m\n",
    "        dw2 = np.dot(self.a1.T, dz2)\n",
    "        db2 = np.sum(dz2, axis=0, keepdims=True)\n",
    "        da1 = np.dot(dz2, self.W2.T)\n",
    "        dz1 = da1 * (self.a1 > 0)\n",
    "        dw1 = np.dot(x.T, dz1)\n",
    "        db1 = np.sum(dz1, axis=0, keepdims=True)\n",
    "        return dw1, db1, dw2, db2\n",
    "\n",
    "    def update_params(self, grads, lr=0.1):\n",
    "        dw1, db1, dw2, db2 = grads\n",
    "        self.W1 -= lr * dw1\n",
    "        self.b1 -= lr * db1\n",
    "        self.W2 -= lr * dw2\n",
    "        self.b2 -= lr * db2\n",
    "\n",
    "\n",
    "\n",
    "\n"
   ]
  },
  {
   "cell_type": "code",
   "execution_count": 58,
   "metadata": {},
   "outputs": [],
   "source": [
    "transform = transforms.Compose([\n",
    "    transforms.ToTensor(),\n",
    "    transforms.Normalize((0.5,), (0.5,))\n",
    "])\n",
    "\n",
    "train_dataset = datasets.FashionMNIST(root='./data', train=True, download=True, transform=transform)\n",
    "test_dataset = datasets.FashionMNIST(root='./data', train=False, download=True, transform=transform)\n",
    "\n",
    "train_loader = DataLoader(train_dataset, batch_size=64, shuffle=True)\n",
    "test_loader = DataLoader(test_dataset, batch_size=64, shuffle=False)\n"
   ]
  },
  {
   "cell_type": "code",
   "execution_count": 59,
   "metadata": {},
   "outputs": [],
   "source": [
    "def train(model, train_loader, learning_rate=0.1):\n",
    "    \"\"\"Train the model for one epoch and return the average loss.\"\"\"\n",
    "    train_loss_accum = 0\n",
    "    for x, y_true in train_loader:\n",
    "        x_flat = x.reshape(x.shape[0], -1)  # Flatten the images\n",
    "        y_pred = model.forward(x_flat)\n",
    "        loss = model.compute_loss(y_pred, y_true)\n",
    "        grads = model.backward(x_flat, y_true, y_pred)\n",
    "        model.update_params(grads, lr=learning_rate)\n",
    "        train_loss_accum += loss\n",
    "    return train_loss_accum / len(train_loader)"
   ]
  },
  {
   "cell_type": "code",
   "execution_count": 60,
   "metadata": {},
   "outputs": [],
   "source": [
    "def evaluate(model, test_loader):\n",
    "    \"\"\"Evaluate the model on the test set and return loss and accuracy.\"\"\"\n",
    "    test_loss_accum = 0\n",
    "    correct = 0\n",
    "    total = 0\n",
    "    for x, y_true in test_loader:\n",
    "        x_flat = x.reshape(x.shape[0], -1)\n",
    "        y_pred = model.forward(x_flat)\n",
    "        loss = model.compute_loss(y_pred, y_true)\n",
    "        test_loss_accum += loss\n",
    "        predictions = np.argmax(y_pred, axis=1)\n",
    "\n",
    "        # 请确保y_true是整数数组，不是独热编码\n",
    "        correct += np.sum(predictions == y_true)\n",
    "        total += len(y_true)\n",
    "\n",
    "    average_test_loss = test_loss_accum / len(test_loader)\n",
    "    test_accuracy = correct / total\n",
    "    return average_test_loss, test_accuracy\n"
   ]
  },
  {
   "cell_type": "code",
   "execution_count": 61,
   "metadata": {},
   "outputs": [],
   "source": [
    "def main(train_loader, test_loader, epochs=10):\n",
    "    model = SimpleFullyConnectedNN(784, 256, 10)\n",
    "    train_losses, test_losses, test_accuracies = [], [], []\n",
    "    \n",
    "    for epoch in range(epochs):\n",
    "        train_loss = train(model, train_loader)\n",
    "        test_loss, test_accuracy = evaluate(model, test_loader)\n",
    "        \n",
    "        train_losses.append(train_loss)\n",
    "        test_losses.append(test_loss)\n",
    "        test_accuracies.append(test_accuracy)\n",
    "        \n",
    "        print(f\"Epoch {epoch+1}: Train Loss: {train_loss:.4f}, Test Loss: {test_loss:.4f}, Test Accuracy: {test_accuracy:.4f}\")\n",
    "\n",
    "    # Plotting\n",
    "    plt.figure(figsize=(12, 5))\n",
    "    plt.subplot(1, 2, 1)\n",
    "    plt.plot(train_losses, label='Train Loss')\n",
    "    plt.plot(test_losses, label='Test Loss')\n",
    "    plt.title('Loss vs. Epochs')\n",
    "    plt.xlabel('Epoch')\n",
    "    plt.ylabel('Loss')\n",
    "    plt.legend()\n",
    "\n",
    "    plt.subplot(1, 2, 2)\n",
    "    plt.plot(test_accuracies, label='Test Accuracy')\n",
    "    plt.title('Accuracy vs. Epochs')\n",
    "    plt.xlabel('Epoch')\n",
    "    plt.ylabel('Accuracy')\n",
    "    plt.legend()\n",
    "    plt.show()"
   ]
  },
  {
   "cell_type": "code",
   "execution_count": 62,
   "metadata": {},
   "outputs": [
    {
     "name": "stdout",
     "output_type": "stream",
     "text": [
      "Epoch 1: Train Loss: 0.5666, Test Loss: 0.4557, Test Accuracy: 0.0000\n",
      "Epoch 2: Train Loss: 0.4027, Test Loss: 0.4499, Test Accuracy: 0.0000\n",
      "Epoch 3: Train Loss: 0.3606, Test Loss: 0.3853, Test Accuracy: 0.0000\n",
      "Epoch 4: Train Loss: 0.3344, Test Loss: 0.4042, Test Accuracy: 0.0000\n",
      "Epoch 5: Train Loss: 0.3138, Test Loss: 0.3715, Test Accuracy: 0.0000\n",
      "Epoch 6: Train Loss: 0.2994, Test Loss: 0.3949, Test Accuracy: 0.0000\n",
      "Epoch 7: Train Loss: 0.2864, Test Loss: 0.3407, Test Accuracy: 0.0000\n",
      "Epoch 8: Train Loss: 0.2744, Test Loss: 0.3669, Test Accuracy: 0.0000\n",
      "Epoch 9: Train Loss: 0.2631, Test Loss: 0.3990, Test Accuracy: 0.0000\n",
      "Epoch 10: Train Loss: 0.2537, Test Loss: 0.3853, Test Accuracy: 0.0000\n"
     ]
    },
    {
     "ename": "AttributeError",
     "evalue": "module 'matplotlib' has no attribute 'figure'",
     "output_type": "error",
     "traceback": [
      "\u001b[1;31m---------------------------------------------------------------------------\u001b[0m",
      "\u001b[1;31mAttributeError\u001b[0m                            Traceback (most recent call last)",
      "Cell \u001b[1;32mIn[62], line 1\u001b[0m\n\u001b[1;32m----> 1\u001b[0m main(train_loader, test_loader)\n",
      "Cell \u001b[1;32mIn[61], line 16\u001b[0m, in \u001b[0;36mmain\u001b[1;34m(train_loader, test_loader, epochs)\u001b[0m\n\u001b[0;32m     13\u001b[0m     \u001b[38;5;28mprint\u001b[39m(\u001b[38;5;124mf\u001b[39m\u001b[38;5;124m\"\u001b[39m\u001b[38;5;124mEpoch \u001b[39m\u001b[38;5;132;01m{\u001b[39;00mepoch\u001b[38;5;241m+\u001b[39m\u001b[38;5;241m1\u001b[39m\u001b[38;5;132;01m}\u001b[39;00m\u001b[38;5;124m: Train Loss: \u001b[39m\u001b[38;5;132;01m{\u001b[39;00mtrain_loss\u001b[38;5;132;01m:\u001b[39;00m\u001b[38;5;124m.4f\u001b[39m\u001b[38;5;132;01m}\u001b[39;00m\u001b[38;5;124m, Test Loss: \u001b[39m\u001b[38;5;132;01m{\u001b[39;00mtest_loss\u001b[38;5;132;01m:\u001b[39;00m\u001b[38;5;124m.4f\u001b[39m\u001b[38;5;132;01m}\u001b[39;00m\u001b[38;5;124m, Test Accuracy: \u001b[39m\u001b[38;5;132;01m{\u001b[39;00mtest_accuracy\u001b[38;5;132;01m:\u001b[39;00m\u001b[38;5;124m.4f\u001b[39m\u001b[38;5;132;01m}\u001b[39;00m\u001b[38;5;124m\"\u001b[39m)\n\u001b[0;32m     15\u001b[0m \u001b[38;5;66;03m# Plotting\u001b[39;00m\n\u001b[1;32m---> 16\u001b[0m plt\u001b[38;5;241m.\u001b[39mfigure(figsize\u001b[38;5;241m=\u001b[39m(\u001b[38;5;241m12\u001b[39m, \u001b[38;5;241m5\u001b[39m))\n\u001b[0;32m     17\u001b[0m plt\u001b[38;5;241m.\u001b[39msubplot(\u001b[38;5;241m1\u001b[39m, \u001b[38;5;241m2\u001b[39m, \u001b[38;5;241m1\u001b[39m)\n\u001b[0;32m     18\u001b[0m plt\u001b[38;5;241m.\u001b[39mplot(train_losses, label\u001b[38;5;241m=\u001b[39m\u001b[38;5;124m'\u001b[39m\u001b[38;5;124mTrain Loss\u001b[39m\u001b[38;5;124m'\u001b[39m)\n",
      "File \u001b[1;32md:\\anaconda\\envs\\pytorch\\Lib\\site-packages\\matplotlib\\_api\\__init__.py:226\u001b[0m, in \u001b[0;36mcaching_module_getattr.<locals>.__getattr__\u001b[1;34m(name)\u001b[0m\n\u001b[0;32m    224\u001b[0m \u001b[38;5;28;01mif\u001b[39;00m name \u001b[38;5;129;01min\u001b[39;00m props:\n\u001b[0;32m    225\u001b[0m     \u001b[38;5;28;01mreturn\u001b[39;00m props[name]\u001b[38;5;241m.\u001b[39m\u001b[38;5;21m__get__\u001b[39m(instance)\n\u001b[1;32m--> 226\u001b[0m \u001b[38;5;28;01mraise\u001b[39;00m \u001b[38;5;167;01mAttributeError\u001b[39;00m(\n\u001b[0;32m    227\u001b[0m     \u001b[38;5;124mf\u001b[39m\u001b[38;5;124m\"\u001b[39m\u001b[38;5;124mmodule \u001b[39m\u001b[38;5;132;01m{\u001b[39;00m\u001b[38;5;28mcls\u001b[39m\u001b[38;5;241m.\u001b[39m\u001b[38;5;18m__module__\u001b[39m\u001b[38;5;132;01m!r}\u001b[39;00m\u001b[38;5;124m has no attribute \u001b[39m\u001b[38;5;132;01m{\u001b[39;00mname\u001b[38;5;132;01m!r}\u001b[39;00m\u001b[38;5;124m\"\u001b[39m)\n",
      "\u001b[1;31mAttributeError\u001b[0m: module 'matplotlib' has no attribute 'figure'"
     ]
    }
   ],
   "source": [
    "main(train_loader, test_loader)"
   ]
  }
 ],
 "metadata": {
  "kernelspec": {
   "display_name": "pytorch",
   "language": "python",
   "name": "python3"
  },
  "language_info": {
   "codemirror_mode": {
    "name": "ipython",
    "version": 3
   },
   "file_extension": ".py",
   "mimetype": "text/x-python",
   "name": "python",
   "nbconvert_exporter": "python",
   "pygments_lexer": "ipython3",
   "version": "3.11.5"
  }
 },
 "nbformat": 4,
 "nbformat_minor": 2
}
