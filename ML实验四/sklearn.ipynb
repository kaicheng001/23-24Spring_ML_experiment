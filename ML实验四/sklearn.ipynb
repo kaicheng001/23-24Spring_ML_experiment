{
 "cells": [
  {
   "cell_type": "code",
   "execution_count": 1,
   "metadata": {},
   "outputs": [],
   "source": [
    "# import pandas as pd\n",
    "# from sklearn.svm import SVC\n",
    "# from sklearn.metrics import accuracy_score\n",
    "# from sklearn.model_selection import train_test_split, GridSearchCV\n",
    "\n",
    "# # 加载数据集\n",
    "# X_train = pd.read_csv('breast_cancer_Xtrain.csv', header=None)\n",
    "# X_test = pd.read_csv('breast_cancer_Xtest.csv', header=None)\n",
    "# y_train = pd.read_csv('breast_cancer_Ytrain.csv', header=None)\n",
    "# y_test = pd.read_csv('breast_cancer_Ytest.csv', header=None)\n",
    "\n",
    "# # 确保标签是1维数组\n",
    "# y_train = y_train.values.ravel()\n",
    "# y_test = y_test.values.ravel()\n",
    "\n",
    "# # 定义和训练SVM模型\n",
    "# models = {\n",
    "#     \"Linear SVM (C=1)\": SVC(kernel='linear', C=1),\n",
    "#     \"Linear SVM (C=1000)\": SVC(kernel='linear', C=1000),\n",
    "#     \"Polynomial SVM (C=1, d=2)\": SVC(kernel='poly', C=1, degree=2),\n",
    "#     \"Polynomial SVM (C=1000, d=2)\": SVC(kernel='poly', C=1000, degree=2)\n",
    "# }\n",
    "\n",
    "# # 训练并评估模型\n",
    "# for name, model in models.items():\n",
    "#     model.fit(X_train, y_train)\n",
    "#     y_pred = model.predict(X_test)\n",
    "#     accuracy = accuracy_score(y_test, y_pred)\n",
    "#     print(f\"{name} Accuracy: {accuracy:.4f}\")"
   ]
  },
  {
   "cell_type": "code",
   "execution_count": 2,
   "metadata": {},
   "outputs": [],
   "source": [
    "# # 参数选择与参数分析\n",
    "# param_grid = {\n",
    "#     'C': [10**-3, 10**-2, 10**-1, 1, 10, 10**2, 10**3],\n",
    "#     'kernel': ['linear', 'poly', 'rbf', 'sigmoid'],\n",
    "#     'degree': [2, 3, 4],\n",
    "#     'gamma': [0.001, 0.01, 0.1, 1, 10, 100]\n",
    "# }\n",
    "# # 使用网格搜索进行参数选择\n",
    "# grid_search = GridSearchCV(SVC(), param_grid, cv=5, scoring='accuracy')\n",
    "# grid_search.fit(X_train, y_train)\n",
    "\n",
    "# # 输出最佳参数和性能\n",
    "# best_params = grid_search.best_params_\n",
    "# best_score = grid_search.best_score_\n",
    "# print(f\"Best Parameters: {best_params}\")\n",
    "# print(f\"Best Cross-Validation Accuracy: {best_score:.4f}\")\n",
    "\n"
   ]
  },
  {
   "cell_type": "code",
   "execution_count": 3,
   "metadata": {},
   "outputs": [],
   "source": [
    "# # 在测试集上评估最优模型\n",
    "# best_model = grid_search.best_estimator_\n",
    "# y_pred_best = best_model.predict(X_test)\n",
    "# best_test_accuracy = accuracy_score(y_test, y_pred_best)\n",
    "# print(f\"Best Model Test Accuracy: {best_test_accuracy:.4f}\")"
   ]
  },
  {
   "cell_type": "markdown",
   "metadata": {},
   "source": [
    "## 1、导入必要的库，加载数据"
   ]
  },
  {
   "cell_type": "code",
   "execution_count": 4,
   "metadata": {},
   "outputs": [],
   "source": [
    "import numpy as np\n",
    "import pandas as pd\n",
    "from sklearn.svm import SVC\n",
    "from sklearn.metrics import accuracy_score\n",
    "from sklearn.model_selection import GridSearchCV\n",
    "\n",
    "# 加载数据集\n",
    "X_train = pd.read_csv('breast_cancer_Xtrain.csv', header=None)\n",
    "X_test = pd.read_csv('breast_cancer_Xtest.csv', header=None)\n",
    "y_train = pd.read_csv('breast_cancer_Ytrain.csv', header=None)\n",
    "y_test = pd.read_csv('breast_cancer_Ytest.csv', header=None)\n",
    "\n",
    "# 确保标签是1维数组\n",
    "y_train = y_train.values.ravel()\n",
    "y_test = y_test.values.ravel()\n"
   ]
  },
  {
   "cell_type": "markdown",
   "metadata": {},
   "source": [
    "## 2、实现四个示例性的SVM模型"
   ]
  },
  {
   "cell_type": "code",
   "execution_count": 5,
   "metadata": {},
   "outputs": [
    {
     "name": "stdout",
     "output_type": "stream",
     "text": [
      "Linear SVM (C=1) Accuracy: 0.9825\n",
      "Linear SVM (C=1000) Accuracy: 0.9561\n",
      "Polynomial SVM (C=1, d=2) Accuracy: 0.9825\n",
      "Polynomial SVM (C=1000, d=2) Accuracy: 0.9386\n"
     ]
    }
   ],
   "source": [
    "# 定义和训练SVM模型\n",
    "models = {\n",
    "    \"Linear SVM (C=1)\": SVC(kernel='linear', C=1),\n",
    "    \"Linear SVM (C=1000)\": SVC(kernel='linear', C=1000),\n",
    "    \"Polynomial SVM (C=1, d=2)\": SVC(kernel='poly', C=1, degree=2),\n",
    "    \"Polynomial SVM (C=1000, d=2)\": SVC(kernel='poly', C=1000, degree=2)\n",
    "}\n",
    "\n",
    "# 训练并评估模型\n",
    "for name, model in models.items():\n",
    "    model.fit(X_train, y_train)\n",
    "    y_pred = model.predict(X_test)\n",
    "    accuracy = accuracy_score(y_test, y_pred)\n",
    "    print(f\"{name} Accuracy: {accuracy:.4f}\")\n"
   ]
  },
  {
   "cell_type": "markdown",
   "metadata": {},
   "source": [
    "## 3、定义Laplacian核函数"
   ]
  },
  {
   "cell_type": "code",
   "execution_count": 6,
   "metadata": {},
   "outputs": [],
   "source": [
    "def laplacian_kernel(X, Y, gamma):\n",
    "    K = np.exp(-gamma * np.linalg.norm(X[:, np.newaxis] - Y[np.newaxis, :], axis=2))\n",
    "    return K"
   ]
  },
  {
   "cell_type": "markdown",
   "metadata": {},
   "source": [
    "## 4、定义自定义SVC类"
   ]
  },
  {
   "cell_type": "code",
   "execution_count": 7,
   "metadata": {},
   "outputs": [],
   "source": [
    "from sklearn.base import BaseEstimator, ClassifierMixin\n",
    "from sklearn.utils import check_X_y, check_array\n",
    "from sklearn.utils.multiclass import unique_labels\n",
    "\n",
    "class CustomSVC(BaseEstimator, ClassifierMixin):\n",
    "    def __init__(self, C=1.0, kernel='linear', degree=3, gamma='scale', coef0=0.0, laplacian_gamma=1.0):\n",
    "        self.C = C\n",
    "        self.kernel = kernel\n",
    "        self.degree = degree\n",
    "        self.gamma = gamma\n",
    "        self.coef0 = coef0\n",
    "        self.laplacian_gamma = laplacian_gamma\n",
    "        self.svc = SVC(C=self.C, kernel=self.kernel, degree=self.degree, gamma=self.gamma, coef0=self.coef0)\n",
    "    \n",
    "    def fit(self, X, y):\n",
    "        X, y = check_X_y(X, y)\n",
    "        if self.kernel == 'laplacian':\n",
    "            self.svc.kernel = lambda X, Y: laplacian_kernel(X, Y, self.laplacian_gamma)\n",
    "        self.svc.fit(X, y)\n",
    "        self.classes_ = unique_labels(y)\n",
    "        return self\n",
    "    \n",
    "    def predict(self, X):\n",
    "        X = check_array(X)\n",
    "        return self.svc.predict(X)"
   ]
  },
  {
   "cell_type": "markdown",
   "metadata": {},
   "source": [
    "## 5、设置参数网格并进行网格搜索"
   ]
  },
  {
   "cell_type": "code",
   "execution_count": 8,
   "metadata": {},
   "outputs": [
    {
     "name": "stdout",
     "output_type": "stream",
     "text": [
      "Best Parameters: {'C': 0.001, 'degree': 2, 'gamma': 0.001, 'kernel': 'linear', 'laplacian_gamma': 0.001}\n",
      "Best Cross-Validation Accuracy: 0.9780\n"
     ]
    }
   ],
   "source": [
    "param_grid = {\n",
    "    'C': [10**-3, 10**-2, 10**-1, 1, 10, 10**2, 10**3],\n",
    "    'kernel': ['linear', 'poly', 'rbf', 'sigmoid', 'laplacian'],\n",
    "    'degree': [2, 3, 4],\n",
    "    'gamma': [0.001, 0.01, 0.1, 1, 10, 100],\n",
    "    'laplacian_gamma': [0.001, 0.01, 0.1, 1, 10, 100]\n",
    "}\n",
    "\n",
    "grid_search = GridSearchCV(CustomSVC(), param_grid, cv=5, scoring='accuracy')\n",
    "grid_search.fit(X_train, y_train)\n",
    "\n",
    "best_params = grid_search.best_params_\n",
    "best_score = grid_search.best_score_\n",
    "print(f\"Best Parameters: {best_params}\")\n",
    "print(f\"Best Cross-Validation Accuracy: {best_score:.4f}\")"
   ]
  },
  {
   "cell_type": "markdown",
   "metadata": {},
   "source": [
    "## 6、在测试集上评估最优模型"
   ]
  },
  {
   "cell_type": "code",
   "execution_count": 9,
   "metadata": {},
   "outputs": [
    {
     "name": "stdout",
     "output_type": "stream",
     "text": [
      "Best Model Test Accuracy: 0.9825\n"
     ]
    }
   ],
   "source": [
    "best_model = grid_search.best_estimator_\n",
    "y_pred_best = best_model.predict(X_test)\n",
    "best_test_accuracy = accuracy_score(y_test, y_pred_best)\n",
    "print(f\"Best Model Test Accuracy: {best_test_accuracy:.4f}\")"
   ]
  },
  {
   "cell_type": "markdown",
   "metadata": {},
   "source": [
    "## 7、对测试集中所有数据进行预测并输出结果"
   ]
  },
  {
   "cell_type": "code",
   "execution_count": 10,
   "metadata": {},
   "outputs": [
    {
     "name": "stdout",
     "output_type": "stream",
     "text": [
      "Test Accuracy: 0.9825\n"
     ]
    }
   ],
   "source": [
    "y_pred_all = best_model.predict(X_test)\n",
    "\n",
    "# 计算所有测试数据的准确率\n",
    "test_accuracy = accuracy_score(y_test, y_pred_all)\n",
    "print(f\"Test Accuracy: {test_accuracy:.4f}\")\n",
    "\n",
    "# 将预测结果转换为 DataFrame\n",
    "result_df = pd.DataFrame(y_pred_all)\n",
    "\n",
    "# 将结果保存到 result2.csv 文件中，没有表头，只有一列数据标签分类\n",
    "result_df.to_csv('result2.csv', index=False, header=False)\n"
   ]
  },
  {
   "cell_type": "markdown",
   "metadata": {},
   "source": [
    "## 8、找出不同的标签"
   ]
  },
  {
   "cell_type": "code",
   "execution_count": 11,
   "metadata": {},
   "outputs": [
    {
     "name": "stdout",
     "output_type": "stream",
     "text": [
      "Number of differences: 2\n",
      "Differences between original and predicted labels:\n",
      "    Original  Predicted\n",
      "20         1         -1\n",
      "77         1         -1\n"
     ]
    }
   ],
   "source": [
    "import pandas as pd\n",
    "\n",
    "# 加载原始标签和预测标签\n",
    "original_labels = pd.read_csv('breast_cancer_Ytest.csv', header=None).values.ravel()\n",
    "predicted_labels = pd.read_csv('result2.csv', header=None).values.ravel()\n",
    "\n",
    "# 创建 DataFrame 来存储比较结果\n",
    "comparison_df = pd.DataFrame({\n",
    "    'Original': original_labels,\n",
    "    'Predicted': predicted_labels\n",
    "})\n",
    "\n",
    "# 找出不同的标签\n",
    "differences = comparison_df[comparison_df['Original'] != comparison_df['Predicted']]\n",
    "\n",
    "# 输出不同标签的行数\n",
    "print(f\"Number of differences: {len(differences)}\")\n",
    "\n",
    "# 输出所有不同的标签\n",
    "print(\"Differences between original and predicted labels:\")\n",
    "print(differences)\n"
   ]
  },
  {
   "cell_type": "markdown",
   "metadata": {},
   "source": [
    "## 完整的code"
   ]
  },
  {
   "cell_type": "code",
   "execution_count": 12,
   "metadata": {},
   "outputs": [
    {
     "name": "stdout",
     "output_type": "stream",
     "text": [
      "Linear SVM (C=1) Accuracy: 0.9825\n",
      "Linear SVM (C=1000) Accuracy: 0.9561\n",
      "Polynomial SVM (C=1, d=2) Accuracy: 0.9825\n",
      "Polynomial SVM (C=1000, d=2) Accuracy: 0.9386\n",
      "Best Parameters: {'C': 0.001, 'degree': 2, 'gamma': 0.001, 'kernel': 'linear', 'laplacian_gamma': 0.001}\n",
      "Best Cross-Validation Accuracy: 0.9780\n",
      "Best Model Test Accuracy: 0.9825\n",
      "Test Accuracy: 0.9825\n",
      "Number of differences: 2\n",
      "Differences between original and predicted labels:\n",
      "    Original  Predicted\n",
      "20         1         -1\n",
      "77         1         -1\n"
     ]
    }
   ],
   "source": [
    "# 1. 导入必要的库和加载数据集\n",
    "import numpy as np\n",
    "import pandas as pd\n",
    "from sklearn.svm import SVC\n",
    "from sklearn.metrics import accuracy_score\n",
    "from sklearn.model_selection import GridSearchCV\n",
    "\n",
    "X_train = pd.read_csv('breast_cancer_Xtrain.csv', header=None)\n",
    "X_test = pd.read_csv('breast_cancer_Xtest.csv', header=None)\n",
    "y_train = pd.read_csv('breast_cancer_Ytrain.csv', header=None)\n",
    "y_test = pd.read_csv('breast_cancer_Ytest.csv', header=None)\n",
    "\n",
    "y_train = y_train.values.ravel()\n",
    "y_test = y_test.values.ravel()\n",
    "\n",
    "#2、实现四个示例性的SVM模型\n",
    "# 定义和训练SVM模型\n",
    "models = {\n",
    "    \"Linear SVM (C=1)\": SVC(kernel='linear', C=1),\n",
    "    \"Linear SVM (C=1000)\": SVC(kernel='linear', C=1000),\n",
    "    \"Polynomial SVM (C=1, d=2)\": SVC(kernel='poly', C=1, degree=2),\n",
    "    \"Polynomial SVM (C=1000, d=2)\": SVC(kernel='poly', C=1000, degree=2)\n",
    "}\n",
    "\n",
    "# 训练并评估模型\n",
    "for name, model in models.items():\n",
    "    model.fit(X_train, y_train)\n",
    "    y_pred = model.predict(X_test)\n",
    "    accuracy = accuracy_score(y_test, y_pred)\n",
    "    print(f\"{name} Accuracy: {accuracy:.4f}\")\n",
    "\n",
    "\n",
    "# 3. 定义拉普拉斯核函数\n",
    "def laplacian_kernel(X, Y, gamma):\n",
    "    K = np.exp(-gamma * np.linalg.norm(X[:, np.newaxis] - Y[np.newaxis, :], axis=2))\n",
    "    return K\n",
    "\n",
    "# 4. 定义自定义SVC类\n",
    "from sklearn.base import BaseEstimator, ClassifierMixin\n",
    "from sklearn.utils import check_X_y, check_array\n",
    "from sklearn.utils.multiclass import unique_labels\n",
    "\n",
    "class CustomSVC(BaseEstimator, ClassifierMixin):\n",
    "    def __init__(self, C=1.0, kernel='linear', degree=3, gamma='scale', coef0=0.0, laplacian_gamma=1.0):\n",
    "        self.C = C\n",
    "        self.kernel = kernel\n",
    "        self.degree = degree\n",
    "        self.gamma = gamma\n",
    "        self.coef0 = coef0\n",
    "        self.laplacian_gamma = laplacian_gamma\n",
    "        self.svc = SVC(C=self.C, kernel=self.kernel, degree=self.degree, gamma=self.gamma, coef0=self.coef0)\n",
    "    \n",
    "    def fit(self, X, y):\n",
    "        X, y = check_X_y(X, y)\n",
    "        if self.kernel == 'laplacian':\n",
    "            self.svc.kernel = lambda X, Y: laplacian_kernel(X, Y, self.laplacian_gamma)\n",
    "        self.svc.fit(X, y)\n",
    "        self.classes_ = unique_labels(y)\n",
    "        return self\n",
    "    \n",
    "    def predict(self, X):\n",
    "        X = check_array(X)\n",
    "        return self.svc.predict(X)\n",
    "    \n",
    "\n",
    "\n",
    "# 5. 设置参数网格并进行网格搜索\n",
    "param_grid = {\n",
    "    'C': [10**-3, 10**-2, 10**-1, 1, 10, 10**2, 10**3],\n",
    "    'kernel': ['linear', 'poly', 'rbf', 'sigmoid', 'laplacian'],\n",
    "    'degree': [2, 3, 4],\n",
    "    'gamma': [0.001, 0.01, 0.1, 1, 10, 100],\n",
    "    'laplacian_gamma': [0.001, 0.01, 0.1, 1, 10, 100]\n",
    "}\n",
    "\n",
    "grid_search = GridSearchCV(CustomSVC(), param_grid, cv=5, scoring='accuracy')\n",
    "grid_search.fit(X_train, y_train)\n",
    "\n",
    "best_params = grid_search.best_params_\n",
    "best_score = grid_search.best_score_\n",
    "print(f\"Best Parameters: {best_params}\")\n",
    "print(f\"Best Cross-Validation Accuracy: {best_score:.4f}\")\n",
    "\n",
    "# 6. 在测试集上评估最优模型\n",
    "best_model = grid_search.best_estimator_\n",
    "y_pred_best = best_model.predict(X_test)\n",
    "best_test_accuracy = accuracy_score(y_test, y_pred_best)\n",
    "print(f\"Best Model Test Accuracy: {best_test_accuracy:.4f}\")\n",
    "\n",
    "# 7. 对测试集中所有数据进行预测并输出结果\n",
    "y_pred_all = best_model.predict(X_test)\n",
    "\n",
    "# 计算所有测试数据的准确率\n",
    "test_accuracy = accuracy_score(y_test, y_pred_all)\n",
    "print(f\"Test Accuracy: {test_accuracy:.4f}\")\n",
    "\n",
    "# 将预测结果转换为 DataFrame\n",
    "result_df = pd.DataFrame(y_pred_all)\n",
    "\n",
    "# 将结果保存到 result2.csv 文件中，没有表头，只有一列数据标签分类\n",
    "result_df.to_csv('result2.csv', index=False, header=False)\n",
    "\n",
    "# 8、找出不同的标签\n",
    "import pandas as pd\n",
    "\n",
    "# 加载原始标签和预测标签\n",
    "original_labels = pd.read_csv('breast_cancer_Ytest.csv', header=None).values.ravel()\n",
    "predicted_labels = pd.read_csv('result2.csv', header=None).values.ravel()\n",
    "\n",
    "# 创建 DataFrame 来存储比较结果\n",
    "comparison_df = pd.DataFrame({\n",
    "    'Original': original_labels,\n",
    "    'Predicted': predicted_labels\n",
    "})\n",
    "\n",
    "# 找出不同的标签\n",
    "differences = comparison_df[comparison_df['Original'] != comparison_df['Predicted']]\n",
    "\n",
    "# 输出不同标签的行数\n",
    "print(f\"Number of differences: {len(differences)}\")\n",
    "\n",
    "# 输出所有不同的标签\n",
    "print(\"Differences between original and predicted labels:\")\n",
    "print(differences)\n"
   ]
  }
 ],
 "metadata": {
  "kernelspec": {
   "display_name": "pytorch",
   "language": "python",
   "name": "python3"
  },
  "language_info": {
   "codemirror_mode": {
    "name": "ipython",
    "version": 3
   },
   "file_extension": ".py",
   "mimetype": "text/x-python",
   "name": "python",
   "nbconvert_exporter": "python",
   "pygments_lexer": "ipython3",
   "version": "3.11.5"
  }
 },
 "nbformat": 4,
 "nbformat_minor": 2
}
